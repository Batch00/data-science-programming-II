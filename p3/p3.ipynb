{
 "cells": [
  {
   "cell_type": "code",
   "execution_count": 2,
   "id": "abaa0a8b",
   "metadata": {},
   "outputs": [
    {
     "name": "stdout",
     "output_type": "stream",
     "text": [
      "The autoreload extension is already loaded. To reload it, use:\n",
      "  %reload_ext autoreload\n"
     ]
    }
   ],
   "source": [
    "import scrape\n",
    "%load_ext autoreload\n",
    "%autoreload 2"
   ]
  },
  {
   "cell_type": "code",
   "execution_count": 3,
   "id": "754db60a",
   "metadata": {},
   "outputs": [
    {
     "data": {
      "text/html": [
       "<div>\n",
       "<style scoped>\n",
       "    .dataframe tbody tr th:only-of-type {\n",
       "        vertical-align: middle;\n",
       "    }\n",
       "\n",
       "    .dataframe tbody tr th {\n",
       "        vertical-align: top;\n",
       "    }\n",
       "\n",
       "    .dataframe thead th {\n",
       "        text-align: right;\n",
       "    }\n",
       "</style>\n",
       "<table border=\"1\" class=\"dataframe\">\n",
       "  <thead>\n",
       "    <tr style=\"text-align: right;\">\n",
       "      <th></th>\n",
       "      <th>A</th>\n",
       "      <th>B</th>\n",
       "      <th>C</th>\n",
       "      <th>D</th>\n",
       "    </tr>\n",
       "  </thead>\n",
       "  <tbody>\n",
       "    <tr>\n",
       "      <th>A</th>\n",
       "      <td>0</td>\n",
       "      <td>1</td>\n",
       "      <td>0</td>\n",
       "      <td>0</td>\n",
       "    </tr>\n",
       "    <tr>\n",
       "      <th>B</th>\n",
       "      <td>0</td>\n",
       "      <td>0</td>\n",
       "      <td>1</td>\n",
       "      <td>1</td>\n",
       "    </tr>\n",
       "    <tr>\n",
       "      <th>C</th>\n",
       "      <td>0</td>\n",
       "      <td>0</td>\n",
       "      <td>0</td>\n",
       "      <td>1</td>\n",
       "    </tr>\n",
       "    <tr>\n",
       "      <th>D</th>\n",
       "      <td>0</td>\n",
       "      <td>0</td>\n",
       "      <td>1</td>\n",
       "      <td>0</td>\n",
       "    </tr>\n",
       "  </tbody>\n",
       "</table>\n",
       "</div>"
      ],
      "text/plain": [
       "   A  B  C  D\n",
       "A  0  1  0  0\n",
       "B  0  0  1  1\n",
       "C  0  0  0  1\n",
       "D  0  0  1  0"
      ]
     },
     "execution_count": 3,
     "metadata": {},
     "output_type": "execute_result"
    }
   ],
   "source": [
    "import pandas as pd\n",
    "\n",
    "df = pd.DataFrame([\n",
    "    [0,1,0,0],\n",
    "    [0,0,1,1],\n",
    "    [0,0,0,1],\n",
    "    [0,0,1,0],\n",
    "], index=[\"A\", \"B\", \"C\", \"D\"], columns=[\"A\", \"B\", \"C\", \"D\"])\n",
    "df"
   ]
  },
  {
   "cell_type": "code",
   "execution_count": 4,
   "id": "d477ec6a",
   "metadata": {},
   "outputs": [
    {
     "data": {
      "text/plain": [
       "['C', 'D']"
      ]
     },
     "execution_count": 4,
     "metadata": {},
     "output_type": "execute_result"
    }
   ],
   "source": [
    "m = scrape.MatrixSearcher(df)\n",
    "m.dfs_search(\"B\")\n",
    "m.order\n",
    "\n",
    "m.dfs_search(\"C\")\n",
    "m.order"
   ]
  },
  {
   "cell_type": "code",
   "execution_count": 5,
   "id": "6e5611aa",
   "metadata": {},
   "outputs": [
    {
     "data": {
      "text/plain": [
       "['B', 'C', 'D']"
      ]
     },
     "execution_count": 5,
     "metadata": {},
     "output_type": "execute_result"
    }
   ],
   "source": [
    "n = scrape.MatrixSearcher(df)\n",
    "n.bfs_search(\"B\")\n",
    "n.order"
   ]
  },
  {
   "cell_type": "code",
   "execution_count": 6,
   "id": "d41bcfea",
   "metadata": {},
   "outputs": [
    {
     "name": "stdout",
     "output_type": "stream",
     "text": [
      "['2.txt', '4.txt']\n",
      "['M']\n"
     ]
    }
   ],
   "source": [
    "f = scrape.FileSearcher()\n",
    "print(f.go(\"1.txt\"))\n",
    "print(f.order)"
   ]
  },
  {
   "cell_type": "code",
   "execution_count": 7,
   "id": "62607895",
   "metadata": {},
   "outputs": [
    {
     "data": {
      "text/plain": [
       "'MADCITY'"
      ]
     },
     "execution_count": 7,
     "metadata": {},
     "output_type": "execute_result"
    }
   ],
   "source": [
    "f = scrape.FileSearcher()\n",
    "f.bfs_search(\"1.txt\")\n",
    "f.message()"
   ]
  },
  {
   "cell_type": "code",
   "execution_count": 8,
   "id": "0c71c4d7",
   "metadata": {},
   "outputs": [],
   "source": [
    "#http://35.223.40.184:5000"
   ]
  },
  {
   "cell_type": "code",
   "execution_count": 9,
   "id": "139a6797",
   "metadata": {},
   "outputs": [],
   "source": []
  },
  {
   "cell_type": "code",
   "execution_count": 26,
   "id": "ca80ae5f",
   "metadata": {
    "scrolled": true
   },
   "outputs": [
    {
     "data": {
      "text/html": [
       "<div>\n",
       "<style scoped>\n",
       "    .dataframe tbody tr th:only-of-type {\n",
       "        vertical-align: middle;\n",
       "    }\n",
       "\n",
       "    .dataframe tbody tr th {\n",
       "        vertical-align: top;\n",
       "    }\n",
       "\n",
       "    .dataframe thead th {\n",
       "        text-align: right;\n",
       "    }\n",
       "</style>\n",
       "<table border=\"1\" class=\"dataframe\">\n",
       "  <thead>\n",
       "    <tr style=\"text-align: right;\">\n",
       "      <th></th>\n",
       "      <th>clue</th>\n",
       "      <th>latitude</th>\n",
       "      <th>longitude</th>\n",
       "      <th>description</th>\n",
       "    </tr>\n",
       "  </thead>\n",
       "  <tbody>\n",
       "    <tr>\n",
       "      <th>0</th>\n",
       "      <td>1</td>\n",
       "      <td>43.089034</td>\n",
       "      <td>-89.416128</td>\n",
       "      <td>Picnic Point in Madison</td>\n",
       "    </tr>\n",
       "    <tr>\n",
       "      <th>1</th>\n",
       "      <td>7</td>\n",
       "      <td>38.105507</td>\n",
       "      <td>126.910613</td>\n",
       "      <td>Silver Beach in Hawaii</td>\n",
       "    </tr>\n",
       "    <tr>\n",
       "      <th>2</th>\n",
       "      <td>1</td>\n",
       "      <td>65.044901</td>\n",
       "      <td>-16.712836</td>\n",
       "      <td>Shore of a Volcanic Lake in Iceland</td>\n",
       "    </tr>\n",
       "    <tr>\n",
       "      <th>3</th>\n",
       "      <td>3</td>\n",
       "      <td>48.860945</td>\n",
       "      <td>2.335773</td>\n",
       "      <td>The Louvre in Paris</td>\n",
       "    </tr>\n",
       "    <tr>\n",
       "      <th>4</th>\n",
       "      <td>8</td>\n",
       "      <td>51.180315</td>\n",
       "      <td>-1.829659</td>\n",
       "      <td>Stonehenge in the UK</td>\n",
       "    </tr>\n",
       "    <tr>\n",
       "      <th>5</th>\n",
       "      <td>5</td>\n",
       "      <td>37.434183</td>\n",
       "      <td>-122.321990</td>\n",
       "      <td>Redwood forest in San Francisco</td>\n",
       "    </tr>\n",
       "    <tr>\n",
       "      <th>6</th>\n",
       "      <td>2</td>\n",
       "      <td>27.987586</td>\n",
       "      <td>86.925002</td>\n",
       "      <td>Mt. Everest in Nepal</td>\n",
       "    </tr>\n",
       "    <tr>\n",
       "      <th>7</th>\n",
       "      <td>4</td>\n",
       "      <td>34.134117</td>\n",
       "      <td>-118.321495</td>\n",
       "      <td>Hollywood Sign in LA</td>\n",
       "    </tr>\n",
       "    <tr>\n",
       "      <th>8</th>\n",
       "      <td>5</td>\n",
       "      <td>38.655100</td>\n",
       "      <td>90.061800</td>\n",
       "      <td>Cahokia Mounds in IL</td>\n",
       "    </tr>\n",
       "    <tr>\n",
       "      <th>9</th>\n",
       "      <td>9</td>\n",
       "      <td>40.748400</td>\n",
       "      <td>73.985700</td>\n",
       "      <td>Empire State Building in NY</td>\n",
       "    </tr>\n",
       "    <tr>\n",
       "      <th>10</th>\n",
       "      <td>4</td>\n",
       "      <td>29.975300</td>\n",
       "      <td>31.137600</td>\n",
       "      <td>Great Sphinx of Giza in Egypt</td>\n",
       "    </tr>\n",
       "    <tr>\n",
       "      <th>11</th>\n",
       "      <td>1</td>\n",
       "      <td>47.557600</td>\n",
       "      <td>10.749800</td>\n",
       "      <td>Neuschwanstein Castle in Germany</td>\n",
       "    </tr>\n",
       "    <tr>\n",
       "      <th>12</th>\n",
       "      <td>5</td>\n",
       "      <td>38.624700</td>\n",
       "      <td>90.184800</td>\n",
       "      <td>The Gateway Arch in St. Louis</td>\n",
       "    </tr>\n",
       "    <tr>\n",
       "      <th>13</th>\n",
       "      <td>3</td>\n",
       "      <td>30.328500</td>\n",
       "      <td>35.444400</td>\n",
       "      <td>Petra in Jordan</td>\n",
       "    </tr>\n",
       "    <tr>\n",
       "      <th>14</th>\n",
       "      <td>2</td>\n",
       "      <td>41.480800</td>\n",
       "      <td>82.683400</td>\n",
       "      <td>Cedar Point in OH</td>\n",
       "    </tr>\n",
       "    <tr>\n",
       "      <th>15</th>\n",
       "      <td>6</td>\n",
       "      <td>43.070010</td>\n",
       "      <td>-89.409450</td>\n",
       "      <td>Quick Trip on Monroe Street</td>\n",
       "    </tr>\n",
       "  </tbody>\n",
       "</table>\n",
       "</div>"
      ],
      "text/plain": [
       "    clue   latitude   longitude                          description\n",
       "0      1  43.089034  -89.416128              Picnic Point in Madison\n",
       "1      7  38.105507  126.910613               Silver Beach in Hawaii\n",
       "2      1  65.044901  -16.712836  Shore of a Volcanic Lake in Iceland\n",
       "3      3  48.860945    2.335773                  The Louvre in Paris\n",
       "4      8  51.180315   -1.829659                 Stonehenge in the UK\n",
       "5      5  37.434183 -122.321990      Redwood forest in San Francisco\n",
       "6      2  27.987586   86.925002                 Mt. Everest in Nepal\n",
       "7      4  34.134117 -118.321495                 Hollywood Sign in LA\n",
       "8      5  38.655100   90.061800                 Cahokia Mounds in IL\n",
       "9      9  40.748400   73.985700          Empire State Building in NY\n",
       "10     4  29.975300   31.137600        Great Sphinx of Giza in Egypt\n",
       "11     1  47.557600   10.749800     Neuschwanstein Castle in Germany\n",
       "12     5  38.624700   90.184800        The Gateway Arch in St. Louis\n",
       "13     3  30.328500   35.444400                      Petra in Jordan\n",
       "14     2  41.480800   82.683400                    Cedar Point in OH\n",
       "15     6  43.070010  -89.409450          Quick Trip on Monroe Street"
      ]
     },
     "execution_count": 26,
     "metadata": {},
     "output_type": "execute_result"
    }
   ],
   "source": [
    "import os\n",
    "from selenium.webdriver.chrome.options import Options\n",
    "from selenium.webdriver.chrome.service import Service\n",
    "from selenium import webdriver\n",
    "import scrape\n",
    "\n",
    "# kill previous chrome instance if still around (to conserve memory)\n",
    "os.system(\"pkill -f -9 chromium\")\n",
    "\n",
    "options = Options()\n",
    "options.headless = True\n",
    "service = Service(executable_path=\"chromium.chromedriver\")\n",
    "driver = webdriver.Chrome(options=options, service=service)\n",
    "\n",
    "# TODO: use IP address of your VM\n",
    "start_url = \"http://35.223.40.184:5000/Node_1.html\"\n",
    "\n",
    "s = scrape.WebSearcher(driver)\n",
    "#print(s.go(start_url))\n",
    "\n",
    "s = scrape.WebSearcher(driver)\n",
    "s.bfs_search(start_url)\n",
    "#print(s.order)\n",
    "\n",
    "\n",
    "#print(s.table())\n",
    "df = s.table()\n",
    "\n",
    "df\n",
    "\n",
    "#driver.close()\n"
   ]
  },
  {
   "cell_type": "code",
   "execution_count": 30,
   "id": "c0e07fe3",
   "metadata": {},
   "outputs": [
    {
     "data": {
      "text/plain": [
       "'BASCOM HALL'"
      ]
     },
     "execution_count": 30,
     "metadata": {},
     "output_type": "execute_result"
    }
   ],
   "source": [
    "driver = webdriver.Chrome(options=options, service=service)\n",
    "url = \"http://35.223.40.184:5000\"\n",
    "\n",
    "scrape.reveal_secrets(driver, url, df)"
   ]
  },
  {
   "cell_type": "code",
   "execution_count": 25,
   "id": "d9a141b6",
   "metadata": {},
   "outputs": [],
   "source": [
    "driver.close()"
   ]
  },
  {
   "cell_type": "code",
   "execution_count": null,
   "id": "d517270e",
   "metadata": {},
   "outputs": [],
   "source": []
  }
 ],
 "metadata": {
  "kernelspec": {
   "display_name": "Python 3 (ipykernel)",
   "language": "python",
   "name": "python3"
  },
  "language_info": {
   "codemirror_mode": {
    "name": "ipython",
    "version": 3
   },
   "file_extension": ".py",
   "mimetype": "text/x-python",
   "name": "python",
   "nbconvert_exporter": "python",
   "pygments_lexer": "ipython3",
   "version": "3.8.10"
  }
 },
 "nbformat": 4,
 "nbformat_minor": 5
}
