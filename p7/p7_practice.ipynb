{
 "cells": [
  {
   "cell_type": "code",
   "execution_count": 91,
   "id": "17062349",
   "metadata": {},
   "outputs": [
    {
     "name": "stdout",
     "output_type": "stream",
     "text": [
      "The autoreload extension is already loaded. To reload it, use:\n",
      "  %reload_ext autoreload\n"
     ]
    }
   ],
   "source": [
    "import pandas as pd\n",
    "from sklearn.linear_model import LinearRegression, LogisticRegression\n",
    "from sklearn.preprocessing import StandardScaler, PolynomialFeatures, OneHotEncoder\n",
    "from sklearn.pipeline import Pipeline\n",
    "from sklearn.compose import make_column_transformer\n",
    "from sklearn.model_selection import train_test_split, cross_val_score\n",
    "from sklearn.metrics import *\n",
    "from main import UserPredictor\n",
    "%load_ext autoreload\n",
    "%autoreload 2"
   ]
  },
  {
   "cell_type": "code",
   "execution_count": 92,
   "id": "ae42ecdd",
   "metadata": {},
   "outputs": [
    {
     "data": {
      "text/plain": [
       "Pipeline(steps=[('poly', PolynomialFeatures()), ('std', StandardScaler()),\n",
       "                ('lr', LogisticRegression())])"
      ]
     },
     "execution_count": 92,
     "metadata": {},
     "output_type": "execute_result"
    }
   ],
   "source": [
    "model = UserPredictor()\n",
    "train_users = pd.read_csv(\"data/train_users.csv\")\n",
    "train_logs = pd.read_csv(\"data/train_logs.csv\")\n",
    "train_y = pd.read_csv(\"data/train_y.csv\")\n",
    "model.fit(train_users, train_logs, train_y)"
   ]
  },
  {
   "cell_type": "code",
   "execution_count": 93,
   "id": "0a4ea470",
   "metadata": {},
   "outputs": [],
   "source": [
    "test_users = pd.read_csv(\"data/test1_users.csv\")\n",
    "test_logs = pd.read_csv(\"data/test1_logs.csv\")\n",
    "test_y = pd.read_csv(\"data/test1_y.csv\")\n",
    "y_pred = model.predict(test_users, test_logs)"
   ]
  },
  {
   "cell_type": "code",
   "execution_count": 94,
   "id": "31da918e",
   "metadata": {},
   "outputs": [],
   "source": [
    "test_users = test_users.set_index('user_id')\n",
    "train_users = train_users.set_index('user_id')"
   ]
  },
  {
   "cell_type": "code",
   "execution_count": 73,
   "id": "5c102b03",
   "metadata": {},
   "outputs": [],
   "source": [
    "total_sec = train_logs.groupby(['user_id'])['seconds'].sum()\n",
    "train_users['seconds'] = total_sec\n",
    "train_users['seconds'].fillna(0, inplace=True)"
   ]
  },
  {
   "cell_type": "code",
   "execution_count": 74,
   "id": "97e03470",
   "metadata": {},
   "outputs": [],
   "source": [
    "total_sec = test_logs.groupby(['user_id'])['seconds'].sum()\n",
    "test_users['seconds'] = total_sec\n",
    "test_users['seconds'].fillna(0, inplace=True)"
   ]
  },
  {
   "cell_type": "code",
   "execution_count": 84,
   "id": "d58a4f84",
   "metadata": {},
   "outputs": [],
   "source": [
    "mod = Pipeline([\n",
    "            (\"poly\", PolynomialFeatures(degree=3)),\n",
    "            (\"std\", StandardScaler()),\n",
    "            (\"lr\", LogisticRegression(max_iter = 250))\n",
    "        ])"
   ]
  },
  {
   "cell_type": "code",
   "execution_count": 85,
   "id": "0a76227e",
   "metadata": {},
   "outputs": [
    {
     "data": {
      "text/plain": [
       "0.8949666666666667"
      ]
     },
     "execution_count": 85,
     "metadata": {},
     "output_type": "execute_result"
    }
   ],
   "source": [
    "mod.fit(train_users[['past_purchase_amt', 'seconds', 'age']], train_y['y'])\n",
    "mod.score(test_users[['past_purchase_amt', 'seconds','age']], test_y['y'])"
   ]
  },
  {
   "cell_type": "code",
   "execution_count": 32,
   "id": "e77b2fad",
   "metadata": {
    "scrolled": true
   },
   "outputs": [
    {
     "data": {
      "text/plain": [
       "array([ True,  True,  True, ..., False, False,  True])"
      ]
     },
     "execution_count": 32,
     "metadata": {},
     "output_type": "execute_result"
    }
   ],
   "source": [
    "mod.predict(test_users[['past_purchase_amt', 'seconds']])"
   ]
  },
  {
   "cell_type": "code",
   "execution_count": 33,
   "id": "2696746c",
   "metadata": {},
   "outputs": [
    {
     "data": {
      "text/plain": [
       "0.7747"
      ]
     },
     "execution_count": 33,
     "metadata": {},
     "output_type": "execute_result"
    }
   ],
   "source": [
    "accuracy_score(test_y[\"y\"], mod.predict(test_users[['past_purchase_amt', 'seconds']]))"
   ]
  },
  {
   "cell_type": "code",
   "execution_count": 68,
   "id": "eb9172e6",
   "metadata": {},
   "outputs": [
    {
     "data": {
      "text/html": [
       "<div>\n",
       "<style scoped>\n",
       "    .dataframe tbody tr th:only-of-type {\n",
       "        vertical-align: middle;\n",
       "    }\n",
       "\n",
       "    .dataframe tbody tr th {\n",
       "        vertical-align: top;\n",
       "    }\n",
       "\n",
       "    .dataframe thead th {\n",
       "        text-align: right;\n",
       "    }\n",
       "</style>\n",
       "<table border=\"1\" class=\"dataframe\">\n",
       "  <thead>\n",
       "    <tr style=\"text-align: right;\">\n",
       "      <th></th>\n",
       "      <th>user_id</th>\n",
       "      <th>names</th>\n",
       "      <th>age</th>\n",
       "      <th>past_purchase_amt</th>\n",
       "      <th>badge</th>\n",
       "    </tr>\n",
       "  </thead>\n",
       "  <tbody>\n",
       "    <tr>\n",
       "      <th>0</th>\n",
       "      <td>0</td>\n",
       "      <td>Adriana Mcclure</td>\n",
       "      <td>26</td>\n",
       "      <td>39.344704</td>\n",
       "      <td>gold</td>\n",
       "    </tr>\n",
       "    <tr>\n",
       "      <th>1</th>\n",
       "      <td>1</td>\n",
       "      <td>Stacy Gilmore</td>\n",
       "      <td>67</td>\n",
       "      <td>15.840151</td>\n",
       "      <td>silver</td>\n",
       "    </tr>\n",
       "    <tr>\n",
       "      <th>2</th>\n",
       "      <td>2</td>\n",
       "      <td>Joanna Walsh</td>\n",
       "      <td>50</td>\n",
       "      <td>1099.420085</td>\n",
       "      <td>bronze</td>\n",
       "    </tr>\n",
       "    <tr>\n",
       "      <th>3</th>\n",
       "      <td>3</td>\n",
       "      <td>Eduardo Moore</td>\n",
       "      <td>65</td>\n",
       "      <td>5.880239</td>\n",
       "      <td>bronze</td>\n",
       "    </tr>\n",
       "    <tr>\n",
       "      <th>4</th>\n",
       "      <td>4</td>\n",
       "      <td>Angela Freeman</td>\n",
       "      <td>88</td>\n",
       "      <td>1312.296847</td>\n",
       "      <td>bronze</td>\n",
       "    </tr>\n",
       "    <tr>\n",
       "      <th>...</th>\n",
       "      <td>...</td>\n",
       "      <td>...</td>\n",
       "      <td>...</td>\n",
       "      <td>...</td>\n",
       "      <td>...</td>\n",
       "    </tr>\n",
       "    <tr>\n",
       "      <th>29995</th>\n",
       "      <td>29995</td>\n",
       "      <td>William Lewis</td>\n",
       "      <td>87</td>\n",
       "      <td>108.914205</td>\n",
       "      <td>bronze</td>\n",
       "    </tr>\n",
       "    <tr>\n",
       "      <th>29996</th>\n",
       "      <td>29996</td>\n",
       "      <td>James Miranda</td>\n",
       "      <td>49</td>\n",
       "      <td>291.969273</td>\n",
       "      <td>gold</td>\n",
       "    </tr>\n",
       "    <tr>\n",
       "      <th>29997</th>\n",
       "      <td>29997</td>\n",
       "      <td>Carlos Davis</td>\n",
       "      <td>46</td>\n",
       "      <td>2.609698</td>\n",
       "      <td>bronze</td>\n",
       "    </tr>\n",
       "    <tr>\n",
       "      <th>29998</th>\n",
       "      <td>29998</td>\n",
       "      <td>Makayla Smith</td>\n",
       "      <td>23</td>\n",
       "      <td>164.885894</td>\n",
       "      <td>bronze</td>\n",
       "    </tr>\n",
       "    <tr>\n",
       "      <th>29999</th>\n",
       "      <td>29999</td>\n",
       "      <td>Tina Anderson</td>\n",
       "      <td>51</td>\n",
       "      <td>161.905284</td>\n",
       "      <td>gold</td>\n",
       "    </tr>\n",
       "  </tbody>\n",
       "</table>\n",
       "<p>30000 rows × 5 columns</p>\n",
       "</div>"
      ],
      "text/plain": [
       "       user_id            names  age  past_purchase_amt   badge\n",
       "0            0  Adriana Mcclure   26          39.344704    gold\n",
       "1            1    Stacy Gilmore   67          15.840151  silver\n",
       "2            2     Joanna Walsh   50        1099.420085  bronze\n",
       "3            3    Eduardo Moore   65           5.880239  bronze\n",
       "4            4   Angela Freeman   88        1312.296847  bronze\n",
       "...        ...              ...  ...                ...     ...\n",
       "29995    29995    William Lewis   87         108.914205  bronze\n",
       "29996    29996    James Miranda   49         291.969273    gold\n",
       "29997    29997     Carlos Davis   46           2.609698  bronze\n",
       "29998    29998    Makayla Smith   23         164.885894  bronze\n",
       "29999    29999    Tina Anderson   51         161.905284    gold\n",
       "\n",
       "[30000 rows x 5 columns]"
      ]
     },
     "execution_count": 68,
     "metadata": {},
     "output_type": "execute_result"
    }
   ],
   "source": [
    "train_users"
   ]
  },
  {
   "cell_type": "code",
   "execution_count": null,
   "id": "50f5e753",
   "metadata": {},
   "outputs": [],
   "source": []
  },
  {
   "cell_type": "code",
   "execution_count": null,
   "id": "22dd892c",
   "metadata": {},
   "outputs": [],
   "source": []
  },
  {
   "cell_type": "code",
   "execution_count": null,
   "id": "950fb057",
   "metadata": {},
   "outputs": [],
   "source": []
  },
  {
   "cell_type": "code",
   "execution_count": null,
   "id": "4aa39043",
   "metadata": {},
   "outputs": [],
   "source": []
  }
 ],
 "metadata": {
  "kernelspec": {
   "display_name": "Python 3 (ipykernel)",
   "language": "python",
   "name": "python3"
  },
  "language_info": {
   "codemirror_mode": {
    "name": "ipython",
    "version": 3
   },
   "file_extension": ".py",
   "mimetype": "text/x-python",
   "name": "python",
   "nbconvert_exporter": "python",
   "pygments_lexer": "ipython3",
   "version": "3.8.10"
  }
 },
 "nbformat": 4,
 "nbformat_minor": 5
}
