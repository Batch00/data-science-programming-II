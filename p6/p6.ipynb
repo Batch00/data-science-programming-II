{
 "cells": [
  {
   "cell_type": "code",
   "execution_count": 1,
   "id": "84db05f0",
   "metadata": {},
   "outputs": [],
   "source": [
    "# project: p6\n",
    "# submitter: cmbatchelor\n",
    "# partner: none\n",
    "# hours: 8"
   ]
  },
  {
   "cell_type": "code",
   "execution_count": 2,
   "id": "790c88f6",
   "metadata": {},
   "outputs": [],
   "source": [
    "import pandas as pd\n",
    "from shapely.geometry import Polygon, box, Point\n",
    "import geopandas as gpd\n",
    "import sqlite3\n",
    "from sklearn.model_selection import train_test_split, cross_val_score\n",
    "from sklearn.linear_model import LinearRegression\n",
    "from sklearn.linear_model import LinearRegression\n",
    "from sklearn.pipeline import Pipeline\n",
    "from sklearn.compose import make_column_transformer\n",
    "from sklearn.preprocessing import PolynomialFeatures, OneHotEncoder\n",
    "import numpy as np\n",
    "import matplotlib.pyplot as plt\n",
    "import rasterio\n",
    "from rasterio.mask import mask\n",
    "from matplotlib.colors import ListedColormap"
   ]
  },
  {
   "cell_type": "code",
   "execution_count": 3,
   "id": "d8b75b40",
   "metadata": {},
   "outputs": [],
   "source": [
    "df = gpd.read_file('counties.geojson')"
   ]
  },
  {
   "cell_type": "code",
   "execution_count": 4,
   "id": "6aafdf3e",
   "metadata": {},
   "outputs": [
    {
     "data": {
      "text/plain": [
       "72"
      ]
     },
     "execution_count": 4,
     "metadata": {},
     "output_type": "execute_result"
    }
   ],
   "source": [
    "#q1\n",
    "len(df)"
   ]
  },
  {
   "cell_type": "code",
   "execution_count": 5,
   "id": "0c117efc",
   "metadata": {
    "scrolled": true
   },
   "outputs": [
    {
     "data": {
      "text/plain": [
       "<AxesSubplot:>"
      ]
     },
     "execution_count": 5,
     "metadata": {},
     "output_type": "execute_result"
    },
    {
     "data": {
      "image/png": "[encoded data removed]",
      "text/plain": [
       "<Figure size 432x288 with 2 Axes>"
      ]
     },
     "metadata": {
      "needs_background": "light"
     },
     "output_type": "display_data"
    }
   ],
   "source": [
    "#q2\n",
    "df.plot(column = \"POP100\", legend = True)"
   ]
  },
  {
   "cell_type": "code",
   "execution_count": 6,
   "id": "ec1536c5",
   "metadata": {},
   "outputs": [],
   "source": [
    "conn = sqlite3.connect(\"counties_tracts.db\")\n",
    "counties = pd.read_sql(\"\"\"SELECT * FROM counties\"\"\", conn)\n",
    "tracts = pd.read_sql(\"\"\"SELECT * FROM tracts\"\"\", conn)"
   ]
  },
  {
   "cell_type": "code",
   "execution_count": 7,
   "id": "edd17a8b",
   "metadata": {},
   "outputs": [],
   "source": [
    "df['AREALAND'] = counties['AREALAND']"
   ]
  },
  {
   "cell_type": "code",
   "execution_count": 8,
   "id": "926cbc39",
   "metadata": {},
   "outputs": [],
   "source": [
    "train, test = train_test_split(df, random_state=320, test_size=0.25)"
   ]
  },
  {
   "cell_type": "code",
   "execution_count": 9,
   "id": "08d258cb",
   "metadata": {},
   "outputs": [
    {
     "data": {
      "text/plain": [
       "['Kewaunee County',\n",
       " 'Calumet County',\n",
       " 'Adams County',\n",
       " 'Eau Claire County',\n",
       " 'Milwaukee County',\n",
       " 'Ashland County',\n",
       " 'Wood County',\n",
       " 'Dodge County',\n",
       " 'Sauk County',\n",
       " 'Clark County',\n",
       " 'Pepin County',\n",
       " 'Taylor County',\n",
       " 'Iron County',\n",
       " 'Outagamie County',\n",
       " 'Florence County',\n",
       " 'Oneida County',\n",
       " 'Pierce County',\n",
       " 'Grant County']"
      ]
     },
     "execution_count": 9,
     "metadata": {},
     "output_type": "execute_result"
    }
   ],
   "source": [
    "#q3\n",
    "list(test['NAME'])"
   ]
  },
  {
   "cell_type": "code",
   "execution_count": 10,
   "id": "6ab14829",
   "metadata": {},
   "outputs": [
    {
     "data": {
      "text/plain": [
       "0.022002661530554857"
      ]
     },
     "execution_count": 10,
     "metadata": {},
     "output_type": "execute_result"
    }
   ],
   "source": [
    "#q4\n",
    "model = LinearRegression()\n",
    "model.fit(train[[\"AREALAND\"]], train[\"POP100\"])\n",
    "model.score(test[[\"AREALAND\"]], test[\"POP100\"])"
   ]
  },
  {
   "cell_type": "code",
   "execution_count": 11,
   "id": "7e943c34",
   "metadata": {},
   "outputs": [
    {
     "data": {
      "text/plain": [
       "82032.53073541154"
      ]
     },
     "execution_count": 11,
     "metadata": {},
     "output_type": "execute_result"
    }
   ],
   "source": [
    "#q5\n",
    "sqmet = 500 * 1000000 * 2.59\n",
    "model.coef_[0] * sqmet + model.intercept_"
   ]
  },
  {
   "cell_type": "code",
   "execution_count": 12,
   "id": "0ff92de4",
   "metadata": {},
   "outputs": [],
   "source": [
    "HU = pd.read_sql(\"\"\"\n",
    "  SELECT tracts.county, counties.name, SUM(HU100) as total_hu \n",
    "  FROM tracts INNER JOIN counties \n",
    "  ON tracts.county = counties.county\n",
    "  GROUP BY tracts.county\"\"\",\n",
    "  conn)\n",
    "HU = HU.set_index(\"NAME\")"
   ]
  },
  {
   "cell_type": "code",
   "execution_count": 13,
   "id": "7fac0baa",
   "metadata": {},
   "outputs": [],
   "source": [
    "df = df.set_index('NAME')\n",
    "df[\"HU100\"] = HU[\"total_hu\"]"
   ]
  },
  {
   "cell_type": "code",
   "execution_count": 14,
   "id": "339db30f",
   "metadata": {},
   "outputs": [],
   "source": [
    "train, test = train_test_split(df, random_state=320, test_size=0.25)"
   ]
  },
  {
   "cell_type": "code",
   "execution_count": 15,
   "id": "724ea5d0",
   "metadata": {
    "scrolled": false
   },
   "outputs": [
    {
     "data": {
      "text/plain": [
       "['Kewaunee County',\n",
       " 'Calumet County',\n",
       " 'Adams County',\n",
       " 'Eau Claire County',\n",
       " 'Milwaukee County',\n",
       " 'Ashland County',\n",
       " 'Wood County',\n",
       " 'Dodge County',\n",
       " 'Sauk County',\n",
       " 'Clark County',\n",
       " 'Pepin County',\n",
       " 'Taylor County',\n",
       " 'Iron County',\n",
       " 'Outagamie County',\n",
       " 'Florence County',\n",
       " 'Oneida County',\n",
       " 'Pierce County',\n",
       " 'Grant County']"
      ]
     },
     "execution_count": 15,
     "metadata": {},
     "output_type": "execute_result"
    }
   ],
   "source": [
    "#q6\n",
    "list(test.index)"
   ]
  },
  {
   "cell_type": "code",
   "execution_count": 16,
   "id": "648782fa",
   "metadata": {
    "scrolled": true
   },
   "outputs": [
    {
     "data": {
      "text/plain": [
       "{'Walworth County': 51531,\n",
       " 'Marquette County': 9896,\n",
       " 'Racine County': 82164,\n",
       " 'Waupaca County': 25396,\n",
       " 'Lincoln County': 16784,\n",
       " 'Washburn County': 12979,\n",
       " 'Door County': 23966,\n",
       " 'Waukesha County': 160864,\n",
       " 'Sheboygan County': 50766,\n",
       " 'La Crosse County': 48402,\n",
       " 'Langlade County': 12360,\n",
       " 'Marathon County': 57734,\n",
       " 'Jefferson County': 35147,\n",
       " 'Price County': 11120,\n",
       " 'Vilas County': 25116,\n",
       " 'Columbia County': 26137,\n",
       " 'Ozaukee County': 36267,\n",
       " 'Fond du Lac County': 43910,\n",
       " 'Crawford County': 8802,\n",
       " 'Lafayette County': 7230,\n",
       " 'Green County': 15856,\n",
       " 'Marinette County': 30379,\n",
       " 'Vernon County': 13720,\n",
       " 'Douglas County': 22825,\n",
       " 'Rock County': 68422,\n",
       " 'Iowa County': 10719,\n",
       " 'Dane County': 216022,\n",
       " 'Bayfield County': 12999,\n",
       " 'Polk County': 24248,\n",
       " 'Trempealeau County': 12619,\n",
       " 'Brown County': 104371,\n",
       " 'Washington County': 54695,\n",
       " 'Chippewa County': 27185,\n",
       " 'Oconto County': 23537,\n",
       " 'Richland County': 8868,\n",
       " 'Portage County': 30054,\n",
       " 'Sawyer County': 15975,\n",
       " 'Menominee County': 2253,\n",
       " 'Barron County': 23614,\n",
       " 'Shawano County': 20720,\n",
       " 'Winnebago County': 73329,\n",
       " 'Rusk County': 8883,\n",
       " 'Manitowoc County': 37189,\n",
       " 'Dunn County': 17964,\n",
       " 'Monroe County': 19204,\n",
       " 'Waushara County': 14843,\n",
       " 'Forest County': 8970,\n",
       " 'Green Lake County': 10616,\n",
       " 'Juneau County': 14669,\n",
       " 'St. Croix County': 33983,\n",
       " 'Buffalo County': 6664,\n",
       " 'Kenosha County': 69288,\n",
       " 'Jackson County': 9727,\n",
       " 'Burnett County': 15278}"
      ]
     },
     "execution_count": 16,
     "metadata": {},
     "output_type": "execute_result"
    }
   ],
   "source": [
    "#q7\n",
    "dict(train[\"HU100\"])"
   ]
  },
  {
   "cell_type": "code",
   "execution_count": 17,
   "id": "c365e5c1",
   "metadata": {},
   "outputs": [
    {
     "data": {
      "text/plain": [
       "0.9652534544116037"
      ]
     },
     "execution_count": 17,
     "metadata": {},
     "output_type": "execute_result"
    }
   ],
   "source": [
    "#q8\n",
    "model = LinearRegression()\n",
    "model.fit(train[[\"HU100\"]], train[\"POP100\"])\n",
    "model.score(test[[\"HU100\"]], test[\"POP100\"])\n",
    "\n",
    "scores = cross_val_score(model, train[[\"HU100\"]], train[\"POP100\"])\n",
    "scores.mean()"
   ]
  },
  {
   "cell_type": "code",
   "execution_count": 18,
   "id": "e3499ddd",
   "metadata": {},
   "outputs": [
    {
     "data": {
      "text/plain": [
       "0.03704265206670459"
      ]
     },
     "execution_count": 18,
     "metadata": {},
     "output_type": "execute_result"
    }
   ],
   "source": [
    "#q9\n",
    "scores.std()"
   ]
  },
  {
   "cell_type": "code",
   "execution_count": 19,
   "id": "9f3083e9",
   "metadata": {},
   "outputs": [
    {
     "data": {
      "text/plain": [
       "'POP100 = 2.39*HU100 + -7910.46'"
      ]
     },
     "execution_count": 19,
     "metadata": {},
     "output_type": "execute_result"
    }
   ],
   "source": [
    "#q10\n",
    "f\"POP100 = {round(model.coef_[0], 2)}*HU100 + {round(model.intercept_, 2)}\""
   ]
  },
  {
   "cell_type": "code",
   "execution_count": 20,
   "id": "21525d91",
   "metadata": {},
   "outputs": [
    {
     "data": {
      "text/plain": [
       "Text(216022, 488073, 'Dane')"
      ]
     },
     "execution_count": 20,
     "metadata": {},
     "output_type": "execute_result"
    },
    {
     "data": {
      "image/png": "[encoded data removed]",
      "text/plain": [
       "<Figure size 432x288 with 1 Axes>"
      ]
     },
     "metadata": {
      "needs_background": "light"
     },
     "output_type": "display_data"
    }
   ],
   "source": [
    "#q11\n",
    "predict_df = pd.DataFrame({\"HU100\": range(1, 420000)})\n",
    "predict_df[\"predicted_y\"] = model.predict(predict_df)\n",
    "\n",
    "ax = df.plot.scatter(x=\"HU100\", y=\"POP100\", label = 'Actual')\n",
    "predict_df.plot.line(x=\"HU100\", y=\"predicted_y\", color=\"red\", label = \"Predicted\", ax = ax)\n",
    "ax.text(df.loc['Dane County']['HU100'], df.loc['Dane County']['POP100'], \"Dane\",\n",
    "       verticalalignment='top', size = 13)"
   ]
  },
  {
   "cell_type": "code",
   "execution_count": 21,
   "id": "5e40e81c",
   "metadata": {},
   "outputs": [],
   "source": [
    "A = np.array([\n",
    "    [0,0,5,8,4],\n",
    "    [1,2,4,0,3],\n",
    "    [2,4,0,9,2],\n",
    "    [3,5,2,1,1],\n",
    "    [0,5,0,1,0]\n",
    "])"
   ]
  },
  {
   "cell_type": "code",
   "execution_count": 22,
   "id": "374b38b3",
   "metadata": {},
   "outputs": [
    {
     "data": {
      "text/plain": [
       "12"
      ]
     },
     "execution_count": 22,
     "metadata": {},
     "output_type": "execute_result"
    }
   ],
   "source": [
    "#q12\n",
    "B = (A >= 2) & (A <= 5)\n",
    "sum(B.reshape(-1))"
   ]
  },
  {
   "cell_type": "code",
   "execution_count": 23,
   "id": "bb165a7e",
   "metadata": {},
   "outputs": [
    {
     "data": {
      "text/plain": [
       "<matplotlib.image.AxesImage at 0x7f88029963d0>"
      ]
     },
     "execution_count": 23,
     "metadata": {},
     "output_type": "execute_result"
    },
    {
     "data": {
      "image/png": "[encoded data removed]",
      "text/plain": [
       "<Figure size 864x864 with 1 Axes>"
      ]
     },
     "metadata": {
      "needs_background": "light"
     },
     "output_type": "display_data"
    }
   ],
   "source": [
    "#q13\n",
    "land = rasterio.open(\"zip://../p6/land.zip!wi.tif\")\n",
    "\n",
    "url = \"https://tigerweb.geo.census.gov/arcgis/rest/services/TIGERweb/tigerWMS_Census2020/MapServer/82/query?where=NAME%3D%27Milwaukee+County%27&text=&objectIds=&time=&geometry=&geometryType=esriGeometryEnvelope&inSR=&spatialRel=esriSpatialRelIntersects&distance=&units=esriSRUnit_Foot&relationParam=&outFields=&returnGeometry=true&returnTrueCurves=false&maxAllowableOffset=&geometryPrecision=&outSR=&havingClause=&returnIdsOnly=false&returnCountOnly=false&orderByFields=&groupByFieldsForStatistics=&outStatistics=&returnZ=false&returnM=false&gdbVersion=&historicMoment=&returnDistinctValues=false&resultOffset=&resultRecordCount=&returnExtentOnly=false&datumTransformation=&parameterValues=&rangeValues=&quantizationParameters=&featureEncoding=esriDefault&f=geojson\"\n",
    "mil = gpd.read_file(url)\n",
    "#mil.plot()\n",
    "\n",
    "matrix, _ = mask(land, mil.to_crs(land.crs)[\"geometry\"], crop=True)\n",
    "matrix = matrix[0]\n",
    "#print(matrix.shape)\n",
    "\n",
    "c = np.zeros((256,3))\n",
    "c[0] = [0.00000000000, 0.00000000000, 0.00000000000]\n",
    "c[11] = [0.27843137255, 0.41960784314, 0.62745098039]\n",
    "c[12] = [0.81960784314, 0.86666666667, 0.97647058824]\n",
    "c[21] = [0.86666666667, 0.78823529412, 0.78823529412]\n",
    "c[22] = [0.84705882353, 0.57647058824, 0.50980392157]\n",
    "c[23] = [0.92941176471, 0.00000000000, 0.00000000000]\n",
    "c[24] = [0.66666666667, 0.00000000000, 0.00000000000]\n",
    "c[31] = [0.69803921569, 0.67843137255, 0.63921568628]\n",
    "c[41] = [0.40784313726, 0.66666666667, 0.38823529412]\n",
    "c[42] = [0.10980392157, 0.38823529412, 0.18823529412]\n",
    "c[43] = [0.70980392157, 0.78823529412, 0.55686274510]\n",
    "c[51] = [0.64705882353, 0.54901960784, 0.18823529412]\n",
    "c[52] = [0.80000000000, 0.72941176471, 0.48627450980]\n",
    "c[71] = [0.88627450980, 0.88627450980, 0.75686274510]\n",
    "c[72] = [0.78823529412, 0.78823529412, 0.46666666667]\n",
    "c[73] = [0.60000000000, 0.75686274510, 0.27843137255]\n",
    "c[74] = [0.46666666667, 0.67843137255, 0.57647058824]\n",
    "c[81] = [0.85882352941, 0.84705882353, 0.23921568628]\n",
    "c[82] = [0.66666666667, 0.43921568628, 0.15686274510]\n",
    "c[90] = [0.72941176471, 0.84705882353, 0.91764705882]\n",
    "c[95] = [0.43921568628, 0.63921568628, 0.72941176471]\n",
    "custom_cmap = ListedColormap(c)\n",
    "\n",
    "fig, ax = plt.subplots(figsize=(12,12))\n",
    "ax.imshow(matrix, vmin=0, vmax=255,cmap = custom_cmap)"
   ]
  },
  {
   "cell_type": "code",
   "execution_count": 24,
   "id": "62d0184c",
   "metadata": {},
   "outputs": [],
   "source": [
    "land_use = {\"open_water\": 11,\n",
    "            \"ice_snow\": 12,\n",
    "            \"developed_open\": 21,\n",
    "            \"developed_low\": 22,\n",
    "            \"developed_med\": 23,\n",
    "            \"developed_high\": 24,\n",
    "            \"barren\": 31,\n",
    "            \"deciduous\": 41,\n",
    "            \"evergreen\": 42,\n",
    "            \"mixed_forest\": 43,\n",
    "            \"dwarf_scrub\": 51,\n",
    "            \"shrub_scrub\": 52,\n",
    "            \"grassland\": 71,\n",
    "            \"sedge\": 72,\n",
    "            \"lichens\": 73,\n",
    "            \"moss\": 74,\n",
    "            \"pasture\": 81,\n",
    "            \"crops\": 82,\n",
    "            \"woody_wetlands\": 90,\n",
    "            \"herbacious_wetlands\": 95}"
   ]
  },
  {
   "cell_type": "code",
   "execution_count": 25,
   "id": "9de39629",
   "metadata": {},
   "outputs": [
    {
     "data": {
      "text/plain": [
       "0.7963037455950543"
      ]
     },
     "execution_count": 25,
     "metadata": {},
     "output_type": "execute_result"
    }
   ],
   "source": [
    "#q14\n",
    "water = (matrix == land_use['open_water']).astype(int).sum()\n",
    "\n",
    "zero = (matrix != 0).astype(int).sum()\n",
    "\n",
    "water / zero"
   ]
  },
  {
   "cell_type": "code",
   "execution_count": 26,
   "id": "349ae245",
   "metadata": {},
   "outputs": [
    {
     "data": {
      "text/plain": [
       "Text(0.5, 0, 'Developed High Intensity in County')"
      ]
     },
     "execution_count": 26,
     "metadata": {},
     "output_type": "execute_result"
    },
    {
     "data": {
      "image/png": "[encoded data removed]",
      "text/plain": [
       "<Figure size 432x288 with 1 Axes>"
      ]
     },
     "metadata": {
      "needs_background": "light"
     },
     "output_type": "display_data"
    }
   ],
   "source": [
    "#q15\n",
    "df = df.reset_index()\n",
    "def get_percent_land(land_type):\n",
    "    mat_list = []\n",
    "    for idx, row in df.iterrows():\n",
    "        matrix, _ = mask(land, df[idx:idx+1].to_crs(land.crs)[\"geometry\"], crop=True)\n",
    "        matrix = matrix[0]\n",
    "\n",
    "        land_ty = (matrix == land_type).astype(int).sum()\n",
    "\n",
    "        mat_list.append(land_ty)\n",
    "    return mat_list\n",
    "    \n",
    "dev_high = get_percent_land(land_use[\"developed_high\"])\n",
    "df['dev_high'] = dev_high\n",
    "\n",
    "ax = df.plot.scatter(x='dev_high', y='POP100')\n",
    "ax.set_xlabel(\"Developed High Intensity in County\")"
   ]
  },
  {
   "cell_type": "code",
   "execution_count": 27,
   "id": "176a6526",
   "metadata": {},
   "outputs": [],
   "source": [
    "df = gpd.read_file('tracts.geojson')"
   ]
  },
  {
   "cell_type": "code",
   "execution_count": 28,
   "id": "da220e7f",
   "metadata": {},
   "outputs": [],
   "source": [
    "dev_high = get_percent_land(land_use[\"developed_high\"])\n",
    "df['dev_high'] = dev_high"
   ]
  },
  {
   "cell_type": "code",
   "execution_count": 29,
   "id": "4020d856",
   "metadata": {},
   "outputs": [],
   "source": [
    "medium = get_percent_land(land_use[\"developed_med\"])\n",
    "df['medium'] = medium"
   ]
  },
  {
   "cell_type": "code",
   "execution_count": 30,
   "id": "7e7ece79",
   "metadata": {},
   "outputs": [],
   "source": [
    "low = get_percent_land(land_use[\"developed_low\"])\n",
    "df['low'] = low"
   ]
  },
  {
   "cell_type": "code",
   "execution_count": 31,
   "id": "37c6b88e",
   "metadata": {},
   "outputs": [],
   "source": [
    "train, test = train_test_split(df, random_state=320)"
   ]
  },
  {
   "cell_type": "code",
   "execution_count": 32,
   "id": "fe1adfa8",
   "metadata": {},
   "outputs": [],
   "source": [
    "m1 = Pipeline([\n",
    "    (\"poly\", PolynomialFeatures(degree=2, include_bias=False)),\n",
    "    (\"lr\", LinearRegression()),\n",
    "])\n",
    "\n",
    "xcols = ['low', 'medium', 'dev_high']\n",
    "m1.fit(train[xcols], train[\"POP100\"])\n",
    "score1 = cross_val_score(m1, train[xcols], train[\"POP100\"])"
   ]
  },
  {
   "cell_type": "code",
   "execution_count": 33,
   "id": "1e4d1054",
   "metadata": {},
   "outputs": [],
   "source": [
    "m2 = LinearRegression()\n",
    "m2.fit(train[[\"dev_high\"]], train[\"POP100\"])\n",
    "score2 = cross_val_score(m2, train[[\"dev_high\"]], train[\"POP100\"])"
   ]
  },
  {
   "cell_type": "code",
   "execution_count": 34,
   "id": "160abcba",
   "metadata": {},
   "outputs": [
    {
     "data": {
      "text/plain": [
       "Text(0, 0.5, 'R^2 Score')"
      ]
     },
     "execution_count": 34,
     "metadata": {},
     "output_type": "execute_result"
    },
    {
     "data": {
      "image/png": "[encoded data removed]",
      "text/plain": [
       "<Figure size 432x288 with 1 Axes>"
      ]
     },
     "metadata": {
      "needs_background": "light"
     },
     "output_type": "display_data"
    }
   ],
   "source": [
    "#q16\n",
    "avg = pd.Series({\"Developed: Open Space\": score1.mean(), \"Developed: High Intensity\": score2.mean()})\n",
    "std = pd.Series({\"Developed: Open Space\": score1.std(), \"Developed: High Intensity\": score2.std()})\n",
    "ax = avg.plot.bar(yerr=std)\n",
    "ax.set_ylabel(\"R^2 Score\")"
   ]
  },
  {
   "cell_type": "code",
   "execution_count": 35,
   "id": "0884d23f",
   "metadata": {},
   "outputs": [
    {
     "data": {
      "text/plain": [
       "0.44002867270117885"
      ]
     },
     "execution_count": 35,
     "metadata": {},
     "output_type": "execute_result"
    }
   ],
   "source": [
    "#q17\n",
    "m1.score(test[xcols], test[\"POP100\"])"
   ]
  },
  {
   "cell_type": "code",
   "execution_count": 36,
   "id": "70df4ca7",
   "metadata": {},
   "outputs": [],
   "source": [
    "# I would Recommend using model 1 because the average cross validation score is\n",
    "# much higher than that of model 1s. m1 = .450, m2 = .072\n",
    "# Model 1 will beable to predict the Population better \n",
    "# than model 2 because of this higher average score as well as the R^2 score.\n",
    "# The R^2 score of model 1 is about .45 while the R^2 score of model 2 is less then .1\n",
    "# This would mean that model 2 would be much more realiable when predicting the POP100 "
   ]
  }
 ],
 "metadata": {
  "kernelspec": {
   "display_name": "Python 3 (ipykernel)",
   "language": "python",
   "name": "python3"
  },
  "language_info": {
   "codemirror_mode": {
    "name": "ipython",
    "version": 3
   },
   "file_extension": ".py",
   "mimetype": "text/x-python",
   "name": "python",
   "nbconvert_exporter": "python",
   "pygments_lexer": "ipython3",
   "version": "3.8.10"
  }
 },
 "nbformat": 4,
 "nbformat_minor": 5
}
